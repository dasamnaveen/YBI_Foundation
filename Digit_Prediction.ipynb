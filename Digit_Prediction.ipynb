{
  "nbformat": 4,
  "nbformat_minor": 0,
  "metadata": {
    "colab": {
      "provenance": [],
      "gpuType": "T4",
      "authorship_tag": "ABX9TyNZhg7ys4NPJ4gBOgD0/xwD",
      "include_colab_link": true
    },
    "kernelspec": {
      "name": "python3",
      "display_name": "Python 3"
    },
    "language_info": {
      "name": "python"
    },
    "accelerator": "GPU"
  },
  "cells": [
    {
      "cell_type": "markdown",
      "metadata": {
        "id": "view-in-github",
        "colab_type": "text"
      },
      "source": [
        "<a href=\"https://colab.research.google.com/github/dasamnaveen/YBI_Foundation/blob/main/Digit_Prediction.ipynb\" target=\"_parent\"><img src=\"https://colab.research.google.com/assets/colab-badge.svg\" alt=\"Open In Colab\"/></a>"
      ]
    },
    {
      "cell_type": "markdown",
      "source": [
        "#**Hand Writing Digit Prediction - Classification Analysis**"
      ],
      "metadata": {
        "id": "R9IS0pSuyJH_"
      }
    },
    {
      "cell_type": "markdown",
      "source": [
        "##Objective\n",
        "The Digits dataset consists of 8x8 pixel image of digits. The image attribute of the dataset stores 8x8 arrays of grayscale values for each image. We will use these arrays to visualize the first 4 images. The target attribute of the dataset stores the digit each image represents"
      ],
      "metadata": {
        "id": "FfPM-fL6zktQ"
      }
    },
    {
      "cell_type": "markdown",
      "source": [
        "###Data Source"
      ],
      "metadata": {
        "id": "yR3Jkf6npdbZ"
      }
    },
    {
      "cell_type": "markdown",
      "source": [
        "From sklearn the datasets are imported by default.\n",
        "By using the dataset (from sklearn.datasets import load_images)"
      ],
      "metadata": {
        "id": "sQTCVss9ptC2"
      }
    },
    {
      "cell_type": "markdown",
      "source": [
        "###Import Library"
      ],
      "metadata": {
        "id": "1b3yrF172L53"
      }
    },
    {
      "cell_type": "code",
      "source": [
        "import pandas as pd"
      ],
      "metadata": {
        "id": "TnDLHeJL18J2"
      },
      "execution_count": 1,
      "outputs": []
    },
    {
      "cell_type": "code",
      "source": [
        "import numpy as np"
      ],
      "metadata": {
        "id": "MTQI8PHv1lV1"
      },
      "execution_count": 2,
      "outputs": []
    },
    {
      "cell_type": "code",
      "source": [
        "import matplotlib.pyplot as plt"
      ],
      "metadata": {
        "id": "Uu6lFZvI2TmZ"
      },
      "execution_count": 3,
      "outputs": []
    },
    {
      "cell_type": "markdown",
      "source": [
        "###Import Data"
      ],
      "metadata": {
        "id": "2oGcwoBR2bUM"
      }
    },
    {
      "cell_type": "code",
      "source": [
        "from sklearn.datasets import load_digits"
      ],
      "metadata": {
        "id": "3wbPtg7A2eAH"
      },
      "execution_count": 4,
      "outputs": []
    },
    {
      "cell_type": "markdown",
      "source": [
        "###Describe Data"
      ],
      "metadata": {
        "id": "nR-iI9munpZl"
      }
    },
    {
      "cell_type": "code",
      "source": [
        "df = load_digits()"
      ],
      "metadata": {
        "id": "Ntw-bDWA2lw8"
      },
      "execution_count": 5,
      "outputs": []
    },
    {
      "cell_type": "markdown",
      "source": [
        "###Data Visualization"
      ],
      "metadata": {
        "id": "HeKlXCzdnz57"
      }
    },
    {
      "cell_type": "code",
      "source": [
        "_, axes = plt.subplots(nrows=1, ncols=5, figsize=(10,3))\n",
        "for ax, image, label in zip(axes, df.images, df.target):\n",
        "  ax.set_axis_off()\n",
        "  ax.imshow(image, cmap=plt.cm.gray_r, interpolation=\"nearest\")\n",
        "  ax.set_title(\"Training: %i\" % label)"
      ],
      "metadata": {
        "colab": {
          "base_uri": "https://localhost:8080/",
          "height": 192
        },
        "id": "ji7faru72vtb",
        "outputId": "40b90d7c-2bf1-46b8-e581-86f3c7ed0a08"
      },
      "execution_count": 6,
      "outputs": [
        {
          "output_type": "display_data",
          "data": {
            "text/plain": [
              "<Figure size 1000x300 with 5 Axes>"
            ],
            "image/png": "[encoded data removed]"
          },
          "metadata": {}
        }
      ]
    },
    {
      "cell_type": "markdown",
      "source": [
        "###Data Preprocessing"
      ],
      "metadata": {
        "id": "TkjmwuOH311-"
      }
    },
    {
      "cell_type": "code",
      "source": [
        "df.images.shape"
      ],
      "metadata": {
        "colab": {
          "base_uri": "https://localhost:8080/"
        },
        "id": "M8sevmFC3zLf",
        "outputId": "214b2772-abf9-4df9-a39a-c42c9e0df06a"
      },
      "execution_count": 7,
      "outputs": [
        {
          "output_type": "execute_result",
          "data": {
            "text/plain": [
              "(1797, 8, 8)"
            ]
          },
          "metadata": {},
          "execution_count": 7
        }
      ]
    },
    {
      "cell_type": "code",
      "source": [
        "df.images[0]"
      ],
      "metadata": {
        "colab": {
          "base_uri": "https://localhost:8080/"
        },
        "id": "yKvC6IdK8YQ7",
        "outputId": "e959dcf8-80f7-4305-d7a6-1f291b1b9bb0"
      },
      "execution_count": 8,
      "outputs": [
        {
          "output_type": "execute_result",
          "data": {
            "text/plain": [
              "array([[ 0.,  0.,  5., 13.,  9.,  1.,  0.,  0.],\n",
              "       [ 0.,  0., 13., 15., 10., 15.,  5.,  0.],\n",
              "       [ 0.,  3., 15.,  2.,  0., 11.,  8.,  0.],\n",
              "       [ 0.,  4., 12.,  0.,  0.,  8.,  8.,  0.],\n",
              "       [ 0.,  5.,  8.,  0.,  0.,  9.,  8.,  0.],\n",
              "       [ 0.,  4., 11.,  0.,  1., 12.,  7.,  0.],\n",
              "       [ 0.,  2., 14.,  5., 10., 12.,  0.,  0.],\n",
              "       [ 0.,  0.,  6., 13., 10.,  0.,  0.,  0.]])"
            ]
          },
          "metadata": {},
          "execution_count": 8
        }
      ]
    },
    {
      "cell_type": "code",
      "source": [
        "df.images[0].shape"
      ],
      "metadata": {
        "colab": {
          "base_uri": "https://localhost:8080/"
        },
        "id": "viMLdhpGBGNJ",
        "outputId": "e7e21d95-894b-4677-d329-1cddecad8344"
      },
      "execution_count": 9,
      "outputs": [
        {
          "output_type": "execute_result",
          "data": {
            "text/plain": [
              "(8, 8)"
            ]
          },
          "metadata": {},
          "execution_count": 9
        }
      ]
    },
    {
      "cell_type": "code",
      "source": [
        "len(df.images)"
      ],
      "metadata": {
        "colab": {
          "base_uri": "https://localhost:8080/"
        },
        "id": "cBhHnACKBaUg",
        "outputId": "fcf11d28-40d9-4066-dddf-4c03af7a8f03"
      },
      "execution_count": 10,
      "outputs": [
        {
          "output_type": "execute_result",
          "data": {
            "text/plain": [
              "1797"
            ]
          },
          "metadata": {},
          "execution_count": 10
        }
      ]
    },
    {
      "cell_type": "code",
      "source": [
        "n_samples = len(df.images)\n",
        "data = df.images.reshape((n_samples), -1)"
      ],
      "metadata": {
        "id": "_yqOW3g5BdiX"
      },
      "execution_count": 11,
      "outputs": []
    },
    {
      "cell_type": "code",
      "source": [
        "data[0]"
      ],
      "metadata": {
        "colab": {
          "base_uri": "https://localhost:8080/"
        },
        "id": "ZkK7DRkJBwUI",
        "outputId": "16fd7f40-c37a-433f-f80c-27f543e5f338"
      },
      "execution_count": 12,
      "outputs": [
        {
          "output_type": "execute_result",
          "data": {
            "text/plain": [
              "array([ 0.,  0.,  5., 13.,  9.,  1.,  0.,  0.,  0.,  0., 13., 15., 10.,\n",
              "       15.,  5.,  0.,  0.,  3., 15.,  2.,  0., 11.,  8.,  0.,  0.,  4.,\n",
              "       12.,  0.,  0.,  8.,  8.,  0.,  0.,  5.,  8.,  0.,  0.,  9.,  8.,\n",
              "        0.,  0.,  4., 11.,  0.,  1., 12.,  7.,  0.,  0.,  2., 14.,  5.,\n",
              "       10., 12.,  0.,  0.,  0.,  0.,  6., 13., 10.,  0.,  0.,  0.])"
            ]
          },
          "metadata": {},
          "execution_count": 12
        }
      ]
    },
    {
      "cell_type": "code",
      "source": [
        "data[0].shape"
      ],
      "metadata": {
        "colab": {
          "base_uri": "https://localhost:8080/"
        },
        "id": "ZOZbgoSoBzQt",
        "outputId": "7c7aa88b-bcee-479f-9082-7d5e16c077f8"
      },
      "execution_count": 13,
      "outputs": [
        {
          "output_type": "execute_result",
          "data": {
            "text/plain": [
              "(64,)"
            ]
          },
          "metadata": {},
          "execution_count": 13
        }
      ]
    },
    {
      "cell_type": "code",
      "source": [
        "data.shape"
      ],
      "metadata": {
        "colab": {
          "base_uri": "https://localhost:8080/"
        },
        "id": "wruQtQ-zB4yI",
        "outputId": "90bc28d6-e134-4350-a52e-11d369a6444d"
      },
      "execution_count": 14,
      "outputs": [
        {
          "output_type": "execute_result",
          "data": {
            "text/plain": [
              "(1797, 64)"
            ]
          },
          "metadata": {},
          "execution_count": 14
        }
      ]
    },
    {
      "cell_type": "markdown",
      "source": [
        "###Define Target Variable (y) and Feature Variables (X)"
      ],
      "metadata": {
        "id": "xUyNdCytB-Z6"
      }
    },
    {
      "cell_type": "code",
      "source": [
        "data.min()"
      ],
      "metadata": {
        "colab": {
          "base_uri": "https://localhost:8080/"
        },
        "id": "a8xPB6hOCNIy",
        "outputId": "d31741b5-6128-47d9-89f4-cef4c58a9566"
      },
      "execution_count": 15,
      "outputs": [
        {
          "output_type": "execute_result",
          "data": {
            "text/plain": [
              "0.0"
            ]
          },
          "metadata": {},
          "execution_count": 15
        }
      ]
    },
    {
      "cell_type": "code",
      "source": [
        "data.max()"
      ],
      "metadata": {
        "colab": {
          "base_uri": "https://localhost:8080/"
        },
        "id": "RCOpZt4aCPSK",
        "outputId": "8edeaa85-494c-4eec-fd69-dc5e56d9f804"
      },
      "execution_count": 16,
      "outputs": [
        {
          "output_type": "execute_result",
          "data": {
            "text/plain": [
              "16.0"
            ]
          },
          "metadata": {},
          "execution_count": 16
        }
      ]
    },
    {
      "cell_type": "code",
      "source": [
        "data = data/16"
      ],
      "metadata": {
        "id": "ZklKBm95CSfd"
      },
      "execution_count": 17,
      "outputs": []
    },
    {
      "cell_type": "code",
      "source": [
        "data.min()"
      ],
      "metadata": {
        "colab": {
          "base_uri": "https://localhost:8080/"
        },
        "id": "8A1pDoa1CV9O",
        "outputId": "99bf6368-2ef5-4581-88ee-32e7f5144d14"
      },
      "execution_count": 18,
      "outputs": [
        {
          "output_type": "execute_result",
          "data": {
            "text/plain": [
              "0.0"
            ]
          },
          "metadata": {},
          "execution_count": 18
        }
      ]
    },
    {
      "cell_type": "code",
      "source": [
        "data.max()"
      ],
      "metadata": {
        "colab": {
          "base_uri": "https://localhost:8080/"
        },
        "id": "MkaWtwz7Cabn",
        "outputId": "d198d049-9654-45e6-8823-53a081e1f5d5"
      },
      "execution_count": 19,
      "outputs": [
        {
          "output_type": "execute_result",
          "data": {
            "text/plain": [
              "1.0"
            ]
          },
          "metadata": {},
          "execution_count": 19
        }
      ]
    },
    {
      "cell_type": "code",
      "source": [
        "data[0]"
      ],
      "metadata": {
        "colab": {
          "base_uri": "https://localhost:8080/"
        },
        "id": "4iTnBIifCd0G",
        "outputId": "4702789b-5d74-4d2b-9d87-c2616d3f29f5"
      },
      "execution_count": 20,
      "outputs": [
        {
          "output_type": "execute_result",
          "data": {
            "text/plain": [
              "array([0.    , 0.    , 0.3125, 0.8125, 0.5625, 0.0625, 0.    , 0.    ,\n",
              "       0.    , 0.    , 0.8125, 0.9375, 0.625 , 0.9375, 0.3125, 0.    ,\n",
              "       0.    , 0.1875, 0.9375, 0.125 , 0.    , 0.6875, 0.5   , 0.    ,\n",
              "       0.    , 0.25  , 0.75  , 0.    , 0.    , 0.5   , 0.5   , 0.    ,\n",
              "       0.    , 0.3125, 0.5   , 0.    , 0.    , 0.5625, 0.5   , 0.    ,\n",
              "       0.    , 0.25  , 0.6875, 0.    , 0.0625, 0.75  , 0.4375, 0.    ,\n",
              "       0.    , 0.125 , 0.875 , 0.3125, 0.625 , 0.75  , 0.    , 0.    ,\n",
              "       0.    , 0.    , 0.375 , 0.8125, 0.625 , 0.    , 0.    , 0.    ])"
            ]
          },
          "metadata": {},
          "execution_count": 20
        }
      ]
    },
    {
      "cell_type": "markdown",
      "source": [
        "###Train Test Split Data"
      ],
      "metadata": {
        "id": "Vfph8ZvmCfsd"
      }
    },
    {
      "cell_type": "code",
      "source": [
        "from sklearn.model_selection import train_test_split"
      ],
      "metadata": {
        "id": "DTtH4xYoCjSZ"
      },
      "execution_count": 21,
      "outputs": []
    },
    {
      "cell_type": "code",
      "source": [
        "X_train, X_test, Y_train, Y_test = train_test_split(data, df.target, test_size=0.3)"
      ],
      "metadata": {
        "id": "_bXjflLjCsbt"
      },
      "execution_count": 22,
      "outputs": []
    },
    {
      "cell_type": "code",
      "source": [
        "X_train.shape, X_test.shape, Y_train.shape, Y_test.shape"
      ],
      "metadata": {
        "colab": {
          "base_uri": "https://localhost:8080/"
        },
        "id": "EOgys2E3DDWH",
        "outputId": "3c957cd9-c07e-4a4e-b3ce-9c78f5f7b6a5"
      },
      "execution_count": 23,
      "outputs": [
        {
          "output_type": "execute_result",
          "data": {
            "text/plain": [
              "((1257, 64), (540, 64), (1257,), (540,))"
            ]
          },
          "metadata": {},
          "execution_count": 23
        }
      ]
    },
    {
      "cell_type": "markdown",
      "source": [
        "###Random Forest Model"
      ],
      "metadata": {
        "id": "Cat3-6NsDXDq"
      }
    },
    {
      "cell_type": "code",
      "source": [
        "from sklearn.ensemble import RandomForestClassifier"
      ],
      "metadata": {
        "id": "MyZV1Y1nEwYN"
      },
      "execution_count": 24,
      "outputs": []
    },
    {
      "cell_type": "markdown",
      "source": [
        "###Model Evaluation"
      ],
      "metadata": {
        "id": "C_uOQYPz4CUe"
      }
    },
    {
      "cell_type": "code",
      "source": [
        "rf = RandomForestClassifier()"
      ],
      "metadata": {
        "id": "JsqsJHkQFK_7"
      },
      "execution_count": 25,
      "outputs": []
    },
    {
      "cell_type": "code",
      "source": [
        "rf.fit(X_train, Y_train)"
      ],
      "metadata": {
        "colab": {
          "base_uri": "https://localhost:8080/",
          "height": 74
        },
        "id": "Jbvt4ueQFOrp",
        "outputId": "5a1a78b0-54fa-4e57-efa2-bc81fe6603ee"
      },
      "execution_count": 26,
      "outputs": [
        {
          "output_type": "execute_result",
          "data": {
            "text/plain": [
              "RandomForestClassifier()"
            ],
            "text/html": [
              "<style>#sk-container-id-1 {color: black;background-color: white;}#sk-container-id-1 pre{padding: 0;}#sk-container-id-1 div.sk-toggleable {background-color: white;}#sk-container-id-1 label.sk-toggleable__label {cursor: pointer;display: block;width: 100%;margin-bottom: 0;padding: 0.3em;box-sizing: border-box;text-align: center;}#sk-container-id-1 label.sk-toggleable__label-arrow:before {content: \"▸\";float: left;margin-right: 0.25em;color: #696969;}#sk-container-id-1 label.sk-toggleable__label-arrow:hover:before {color: black;}#sk-container-id-1 div.sk-estimator:hover label.sk-toggleable__label-arrow:before {color: black;}#sk-container-id-1 div.sk-toggleable__content {max-height: 0;max-width: 0;overflow: hidden;text-align: left;background-color: #f0f8ff;}#sk-container-id-1 div.sk-toggleable__content pre {margin: 0.2em;color: black;border-radius: 0.25em;background-color: #f0f8ff;}#sk-container-id-1 input.sk-toggleable__control:checked~div.sk-toggleable__content {max-height: 200px;max-width: 100%;overflow: auto;}#sk-container-id-1 input.sk-toggleable__control:checked~label.sk-toggleable__label-arrow:before {content: \"▾\";}#sk-container-id-1 div.sk-estimator input.sk-toggleable__control:checked~label.sk-toggleable__label {background-color: #d4ebff;}#sk-container-id-1 div.sk-label input.sk-toggleable__control:checked~label.sk-toggleable__label {background-color: #d4ebff;}#sk-container-id-1 input.sk-hidden--visually {border: 0;clip: rect(1px 1px 1px 1px);clip: rect(1px, 1px, 1px, 1px);height: 1px;margin: -1px;overflow: hidden;padding: 0;position: absolute;width: 1px;}#sk-container-id-1 div.sk-estimator {font-family: monospace;background-color: #f0f8ff;border: 1px dotted black;border-radius: 0.25em;box-sizing: border-box;margin-bottom: 0.5em;}#sk-container-id-1 div.sk-estimator:hover {background-color: #d4ebff;}#sk-container-id-1 div.sk-parallel-item::after {content: \"\";width: 100%;border-bottom: 1px solid gray;flex-grow: 1;}#sk-container-id-1 div.sk-label:hover label.sk-toggleable__label {background-color: #d4ebff;}#sk-container-id-1 div.sk-serial::before {content: \"\";position: absolute;border-left: 1px solid gray;box-sizing: border-box;top: 0;bottom: 0;left: 50%;z-index: 0;}#sk-container-id-1 div.sk-serial {display: flex;flex-direction: column;align-items: center;background-color: white;padding-right: 0.2em;padding-left: 0.2em;position: relative;}#sk-container-id-1 div.sk-item {position: relative;z-index: 1;}#sk-container-id-1 div.sk-parallel {display: flex;align-items: stretch;justify-content: center;background-color: white;position: relative;}#sk-container-id-1 div.sk-item::before, #sk-container-id-1 div.sk-parallel-item::before {content: \"\";position: absolute;border-left: 1px solid gray;box-sizing: border-box;top: 0;bottom: 0;left: 50%;z-index: -1;}#sk-container-id-1 div.sk-parallel-item {display: flex;flex-direction: column;z-index: 1;position: relative;background-color: white;}#sk-container-id-1 div.sk-parallel-item:first-child::after {align-self: flex-end;width: 50%;}#sk-container-id-1 div.sk-parallel-item:last-child::after {align-self: flex-start;width: 50%;}#sk-container-id-1 div.sk-parallel-item:only-child::after {width: 0;}#sk-container-id-1 div.sk-dashed-wrapped {border: 1px dashed gray;margin: 0 0.4em 0.5em 0.4em;box-sizing: border-box;padding-bottom: 0.4em;background-color: white;}#sk-container-id-1 div.sk-label label {font-family: monospace;font-weight: bold;display: inline-block;line-height: 1.2em;}#sk-container-id-1 div.sk-label-container {text-align: center;}#sk-container-id-1 div.sk-container {/* jupyter's `normalize.less` sets `[hidden] { display: none; }` but bootstrap.min.css set `[hidden] { display: none !important; }` so we also need the `!important` here to be able to override the default hidden behavior on the sphinx rendered scikit-learn.org. See: https://github.com/scikit-learn/scikit-learn/issues/21755 */display: inline-block !important;position: relative;}#sk-container-id-1 div.sk-text-repr-fallback {display: none;}</style><div id=\"sk-container-id-1\" class=\"sk-top-container\"><div class=\"sk-text-repr-fallback\"><pre>RandomForestClassifier()</pre><b>In a Jupyter environment, please rerun this cell to show the HTML representation or trust the notebook. <br />On GitHub, the HTML representation is unable to render, please try loading this page with nbviewer.org.</b></div><div class=\"sk-container\" hidden><div class=\"sk-item\"><div class=\"sk-estimator sk-toggleable\"><input class=\"sk-toggleable__control sk-hidden--visually\" id=\"sk-estimator-id-1\" type=\"checkbox\" checked><label for=\"sk-estimator-id-1\" class=\"sk-toggleable__label sk-toggleable__label-arrow\">RandomForestClassifier</label><div class=\"sk-toggleable__content\"><pre>RandomForestClassifier()</pre></div></div></div></div></div>"
            ]
          },
          "metadata": {},
          "execution_count": 26
        }
      ]
    },
    {
      "cell_type": "markdown",
      "source": [
        "###Predict Test Data"
      ],
      "metadata": {
        "id": "W0gLnFISFaQw"
      }
    },
    {
      "cell_type": "code",
      "source": [
        "Y_pred = rf.predict(X_test)"
      ],
      "metadata": {
        "id": "hd6kZL4wFeN4"
      },
      "execution_count": 27,
      "outputs": []
    },
    {
      "cell_type": "code",
      "source": [
        "Y_pred"
      ],
      "metadata": {
        "colab": {
          "base_uri": "https://localhost:8080/"
        },
        "id": "HJLdBU-hFkDo",
        "outputId": "345f5307-d27b-44bd-fa66-76a3aa4627af"
      },
      "execution_count": 28,
      "outputs": [
        {
          "output_type": "execute_result",
          "data": {
            "text/plain": [
              "array([9, 1, 8, 9, 7, 1, 0, 5, 6, 0, 8, 3, 5, 0, 9, 4, 5, 1, 3, 5, 4, 5,\n",
              "       0, 7, 6, 0, 3, 9, 5, 3, 6, 5, 0, 7, 4, 0, 5, 7, 7, 2, 2, 6, 3, 8,\n",
              "       9, 9, 6, 7, 5, 3, 9, 2, 9, 1, 6, 1, 3, 9, 8, 3, 6, 7, 5, 9, 7, 3,\n",
              "       8, 6, 5, 2, 4, 2, 9, 8, 7, 9, 6, 2, 0, 9, 3, 4, 7, 0, 3, 1, 4, 2,\n",
              "       3, 0, 9, 4, 2, 3, 6, 6, 9, 6, 5, 0, 5, 6, 5, 5, 0, 2, 0, 7, 1, 5,\n",
              "       7, 4, 1, 1, 8, 7, 0, 7, 1, 7, 6, 3, 4, 9, 1, 0, 5, 2, 4, 0, 7, 1,\n",
              "       3, 8, 7, 7, 5, 9, 3, 1, 5, 6, 2, 3, 9, 5, 3, 1, 7, 6, 0, 8, 1, 9,\n",
              "       9, 9, 0, 3, 5, 3, 2, 0, 1, 1, 4, 9, 9, 9, 6, 5, 5, 4, 7, 4, 6, 9,\n",
              "       6, 6, 3, 4, 7, 3, 8, 2, 0, 7, 4, 4, 0, 1, 1, 0, 7, 2, 5, 1, 9, 0,\n",
              "       0, 9, 9, 7, 9, 0, 8, 0, 7, 2, 6, 2, 8, 5, 0, 0, 6, 4, 2, 1, 7, 6,\n",
              "       7, 1, 5, 2, 6, 1, 1, 2, 3, 7, 3, 7, 6, 9, 4, 5, 1, 6, 5, 7, 3, 1,\n",
              "       3, 1, 5, 3, 9, 4, 3, 9, 9, 3, 8, 3, 1, 6, 1, 2, 8, 8, 8, 9, 3, 0,\n",
              "       8, 1, 4, 5, 2, 4, 4, 7, 9, 7, 1, 0, 6, 4, 8, 7, 8, 4, 7, 9, 7, 2,\n",
              "       4, 8, 1, 2, 7, 2, 2, 8, 6, 1, 4, 0, 3, 1, 2, 0, 6, 2, 5, 4, 9, 9,\n",
              "       3, 2, 7, 4, 2, 3, 5, 7, 6, 2, 9, 4, 2, 4, 3, 0, 2, 3, 4, 7, 6, 2,\n",
              "       5, 7, 1, 2, 5, 7, 2, 4, 4, 8, 2, 2, 0, 8, 4, 5, 3, 1, 0, 7, 6, 2,\n",
              "       1, 3, 0, 5, 8, 8, 6, 0, 8, 1, 2, 0, 4, 6, 3, 8, 7, 9, 0, 5, 5, 2,\n",
              "       2, 7, 4, 0, 6, 4, 2, 2, 5, 3, 1, 2, 0, 8, 2, 3, 6, 2, 8, 2, 5, 1,\n",
              "       9, 6, 1, 0, 6, 0, 8, 3, 7, 9, 6, 8, 1, 8, 4, 4, 3, 7, 0, 0, 2, 9,\n",
              "       7, 0, 7, 2, 5, 6, 8, 5, 1, 3, 9, 5, 9, 7, 1, 6, 3, 4, 1, 3, 0, 8,\n",
              "       1, 9, 1, 9, 2, 2, 6, 8, 6, 6, 5, 8, 6, 2, 3, 5, 1, 1, 7, 5, 0, 6,\n",
              "       8, 1, 0, 4, 7, 2, 5, 2, 3, 8, 7, 0, 3, 6, 0, 0, 5, 1, 1, 3, 3, 5,\n",
              "       0, 8, 3, 6, 9, 6, 8, 9, 6, 7, 1, 1, 3, 0, 5, 5, 3, 6, 3, 9, 1, 9,\n",
              "       4, 1, 4, 2, 8, 2, 0, 9, 6, 1, 0, 8, 2, 5, 4, 2, 6, 4, 7, 0, 5, 5,\n",
              "       9, 1, 6, 3, 8, 4, 0, 7, 5, 7, 4, 1])"
            ]
          },
          "metadata": {},
          "execution_count": 28
        }
      ]
    },
    {
      "cell_type": "markdown",
      "source": [
        "###Model Accuracy"
      ],
      "metadata": {
        "id": "-Orf81C6Fq0i"
      }
    },
    {
      "cell_type": "code",
      "source": [
        "from sklearn.metrics import confusion_matrix, classification_report"
      ],
      "metadata": {
        "id": "wVE16ICaFtBb"
      },
      "execution_count": 29,
      "outputs": []
    },
    {
      "cell_type": "code",
      "source": [
        "confusion_matrix(Y_test, Y_pred)"
      ],
      "metadata": {
        "colab": {
          "base_uri": "https://localhost:8080/"
        },
        "id": "abmNRAfVGELq",
        "outputId": "2a3996e0-46cf-4118-814d-a9e69771b055"
      },
      "execution_count": 30,
      "outputs": [
        {
          "output_type": "execute_result",
          "data": {
            "text/plain": [
              "array([[58,  0,  0,  0,  1,  0,  0,  0,  0,  0],\n",
              "       [ 0, 58,  0,  0,  0,  0,  0,  0,  0,  0],\n",
              "       [ 0,  0, 58,  0,  0,  0,  0,  0,  0,  0],\n",
              "       [ 0,  0,  0, 55,  0,  2,  0,  0,  1,  0],\n",
              "       [ 0,  0,  0,  0, 43,  0,  0,  0,  0,  0],\n",
              "       [ 0,  0,  0,  0,  1, 53,  0,  0,  1,  0],\n",
              "       [ 0,  0,  0,  0,  1,  0, 55,  0,  0,  0],\n",
              "       [ 0,  0,  0,  0,  0,  0,  0, 55,  1,  0],\n",
              "       [ 0,  1,  0,  1,  1,  0,  0,  1, 40,  1],\n",
              "       [ 0,  0,  0,  0,  0,  0,  0,  0,  0, 52]])"
            ]
          },
          "metadata": {},
          "execution_count": 30
        }
      ]
    },
    {
      "cell_type": "code",
      "source": [
        "print(classification_report(Y_test, Y_pred))"
      ],
      "metadata": {
        "colab": {
          "base_uri": "https://localhost:8080/"
        },
        "id": "BS9Evw7EGPjY",
        "outputId": "1b233d4f-1260-4ad1-fe6e-abd5f62ce38a"
      },
      "execution_count": 31,
      "outputs": [
        {
          "output_type": "stream",
          "name": "stdout",
          "text": [
            "              precision    recall  f1-score   support\n",
            "\n",
            "           0       1.00      0.98      0.99        59\n",
            "           1       0.98      1.00      0.99        58\n",
            "           2       1.00      1.00      1.00        58\n",
            "           3       0.98      0.95      0.96        58\n",
            "           4       0.91      1.00      0.96        43\n",
            "           5       0.96      0.96      0.96        55\n",
            "           6       1.00      0.98      0.99        56\n",
            "           7       0.98      0.98      0.98        56\n",
            "           8       0.93      0.89      0.91        45\n",
            "           9       0.98      1.00      0.99        52\n",
            "\n",
            "    accuracy                           0.98       540\n",
            "   macro avg       0.97      0.97      0.97       540\n",
            "weighted avg       0.98      0.98      0.98       540\n",
            "\n"
          ]
        }
      ]
    },
    {
      "cell_type": "markdown",
      "source": [
        "###Explaination"
      ],
      "metadata": {
        "id": "4_LWKsv_q3k7"
      }
    },
    {
      "cell_type": "markdown",
      "source": [
        "Since, the Digit prediction has been done by using random forest modeling. which has a long range of modeling in machine learning"
      ],
      "metadata": {
        "id": "xBjIBmpSrAth"
      }
    }
  ]
}